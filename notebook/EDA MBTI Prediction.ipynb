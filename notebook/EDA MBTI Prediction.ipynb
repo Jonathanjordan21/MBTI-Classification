{
 "cells": [
  {
   "cell_type": "markdown",
   "metadata": {},
   "source": [
    "# MBTI-Personality-Type-Prediction"
   ]
  },
  {
   "cell_type": "markdown",
   "metadata": {},
   "source": [
    "Prediction of person’s personality type based on some posts they have written.\n",
    "\n",
    "The Myers Briggs Type Indicator (or MBTI for short) is a personality type system that divides everyone into 16 distinct personality types across 4 axis:\n",
    "\n",
    "Introversion (I) – Extroversion (E) Intuition (N) – Sensing (S) Thinking (T) – Feeling (F) Judging (J) – Perceiving (P)\n",
    "\n",
    "This dataset contains over 8600 rows of data, on each row is a person’s\n",
    "\n",
    "Dataset Source : https://github.com/dashascience/-MBTI-Myers-Briggs-Personality-Type-Dataset"
   ]
  },
  {
   "cell_type": "markdown",
   "metadata": {},
   "source": [
    "### Import Dataset"
   ]
  },
  {
   "cell_type": "code",
   "execution_count": 3,
   "metadata": {},
   "outputs": [
    {
     "data": {
      "text/plain": [
       "('data\\\\mbti.csv', <http.client.HTTPMessage at 0x21ad6112640>)"
      ]
     },
     "execution_count": 3,
     "metadata": {},
     "output_type": "execute_result"
    }
   ],
   "source": [
    "import os,urllib\n",
    "url = 'https://raw.githubusercontent.com/dashascience/-MBTI-Myers-Briggs-Personality-Type-Dataset/master/mbti_1.csv'\n",
    "os.mkdir('data')\n",
    "urllib.request.urlretrieve(url, os.path.join('data', 'mbti.csv'))\n"
   ]
  },
  {
   "cell_type": "markdown",
   "metadata": {},
   "source": [
    "### Load Dataset"
   ]
  },
  {
   "cell_type": "code",
   "execution_count": 2,
   "metadata": {},
   "outputs": [
    {
     "data": {
      "text/html": [
       "<div>\n",
       "<style scoped>\n",
       "    .dataframe tbody tr th:only-of-type {\n",
       "        vertical-align: middle;\n",
       "    }\n",
       "\n",
       "    .dataframe tbody tr th {\n",
       "        vertical-align: top;\n",
       "    }\n",
       "\n",
       "    .dataframe thead th {\n",
       "        text-align: right;\n",
       "    }\n",
       "</style>\n",
       "<table border=\"1\" class=\"dataframe\">\n",
       "  <thead>\n",
       "    <tr style=\"text-align: right;\">\n",
       "      <th></th>\n",
       "      <th>type</th>\n",
       "      <th>posts</th>\n",
       "    </tr>\n",
       "  </thead>\n",
       "  <tbody>\n",
       "    <tr>\n",
       "      <th>count</th>\n",
       "      <td>8675</td>\n",
       "      <td>8675</td>\n",
       "    </tr>\n",
       "    <tr>\n",
       "      <th>unique</th>\n",
       "      <td>16</td>\n",
       "      <td>8675</td>\n",
       "    </tr>\n",
       "    <tr>\n",
       "      <th>top</th>\n",
       "      <td>INFP</td>\n",
       "      <td>'http://www.youtube.com/watch?v=qsXHcwe3krw|||...</td>\n",
       "    </tr>\n",
       "    <tr>\n",
       "      <th>freq</th>\n",
       "      <td>1832</td>\n",
       "      <td>1</td>\n",
       "    </tr>\n",
       "  </tbody>\n",
       "</table>\n",
       "</div>"
      ],
      "text/plain": [
       "        type                                              posts\n",
       "count   8675                                               8675\n",
       "unique    16                                               8675\n",
       "top     INFP  'http://www.youtube.com/watch?v=qsXHcwe3krw|||...\n",
       "freq    1832                                                  1"
      ]
     },
     "execution_count": 2,
     "metadata": {},
     "output_type": "execute_result"
    }
   ],
   "source": [
    "import sklearn\n",
    "import pandas as pd\n",
    "import numpy as np\n",
    "\n",
    "df = pd.read_csv(os.path.join('data', 'mbti.csv'))\n",
    "df.describe()"
   ]
  },
  {
   "cell_type": "markdown",
   "metadata": {},
   "source": [
    "## Exploratory Data Analysis (EDA)"
   ]
  },
  {
   "cell_type": "code",
   "execution_count": 11,
   "metadata": {},
   "outputs": [
    {
     "data": {
      "text/plain": [
       "type     0\n",
       "posts    0\n",
       "dtype: int64"
      ]
     },
     "execution_count": 11,
     "metadata": {},
     "output_type": "execute_result"
    }
   ],
   "source": [
    "df.isna().sum()"
   ]
  },
  {
   "cell_type": "code",
   "execution_count": 6,
   "metadata": {},
   "outputs": [
    {
     "data": {
      "text/html": [
       "<div>\n",
       "<style scoped>\n",
       "    .dataframe tbody tr th:only-of-type {\n",
       "        vertical-align: middle;\n",
       "    }\n",
       "\n",
       "    .dataframe tbody tr th {\n",
       "        vertical-align: top;\n",
       "    }\n",
       "\n",
       "    .dataframe thead th {\n",
       "        text-align: right;\n",
       "    }\n",
       "</style>\n",
       "<table border=\"1\" class=\"dataframe\">\n",
       "  <thead>\n",
       "    <tr style=\"text-align: right;\">\n",
       "      <th></th>\n",
       "      <th>type</th>\n",
       "      <th>posts</th>\n",
       "    </tr>\n",
       "  </thead>\n",
       "  <tbody>\n",
       "    <tr>\n",
       "      <th>0</th>\n",
       "      <td>INFJ</td>\n",
       "      <td>'http://www.youtube.com/watch?v=qsXHcwe3krw|||...</td>\n",
       "    </tr>\n",
       "    <tr>\n",
       "      <th>1</th>\n",
       "      <td>ENTP</td>\n",
       "      <td>'I'm finding the lack of me in these posts ver...</td>\n",
       "    </tr>\n",
       "    <tr>\n",
       "      <th>2</th>\n",
       "      <td>INTP</td>\n",
       "      <td>'Good one  _____   https://www.youtube.com/wat...</td>\n",
       "    </tr>\n",
       "  </tbody>\n",
       "</table>\n",
       "</div>"
      ],
      "text/plain": [
       "   type                                              posts\n",
       "0  INFJ  'http://www.youtube.com/watch?v=qsXHcwe3krw|||...\n",
       "1  ENTP  'I'm finding the lack of me in these posts ver...\n",
       "2  INTP  'Good one  _____   https://www.youtube.com/wat..."
      ]
     },
     "execution_count": 6,
     "metadata": {},
     "output_type": "execute_result"
    }
   ],
   "source": [
    "df.head(3)"
   ]
  },
  {
   "cell_type": "code",
   "execution_count": 3,
   "metadata": {},
   "outputs": [
    {
     "data": {
      "text/html": [
       "<div>\n",
       "<style scoped>\n",
       "    .dataframe tbody tr th:only-of-type {\n",
       "        vertical-align: middle;\n",
       "    }\n",
       "\n",
       "    .dataframe tbody tr th {\n",
       "        vertical-align: top;\n",
       "    }\n",
       "\n",
       "    .dataframe thead th {\n",
       "        text-align: right;\n",
       "    }\n",
       "</style>\n",
       "<table border=\"1\" class=\"dataframe\">\n",
       "  <thead>\n",
       "    <tr style=\"text-align: right;\">\n",
       "      <th></th>\n",
       "      <th>type</th>\n",
       "      <th>post</th>\n",
       "    </tr>\n",
       "  </thead>\n",
       "  <tbody>\n",
       "    <tr>\n",
       "      <th>count</th>\n",
       "      <td>383993</td>\n",
       "      <td>383993</td>\n",
       "    </tr>\n",
       "    <tr>\n",
       "      <th>unique</th>\n",
       "      <td>16</td>\n",
       "      <td>382185</td>\n",
       "    </tr>\n",
       "    <tr>\n",
       "      <th>top</th>\n",
       "      <td>INFP</td>\n",
       "      <td>Welcome to the forum</td>\n",
       "    </tr>\n",
       "    <tr>\n",
       "      <th>freq</th>\n",
       "      <td>80613</td>\n",
       "      <td>75</td>\n",
       "    </tr>\n",
       "  </tbody>\n",
       "</table>\n",
       "</div>"
      ],
      "text/plain": [
       "          type                  post\n",
       "count   383993                383993\n",
       "unique      16                382185\n",
       "top       INFP  Welcome to the forum\n",
       "freq     80613                    75"
      ]
     },
     "execution_count": 3,
     "metadata": {},
     "output_type": "execute_result"
    }
   ],
   "source": [
    "import re\n",
    "\n",
    "def string_cond(s):\n",
    "  return (\n",
    "      'http' not in s and re.search('[a-zA-Z]', s) and len(s) >= 15\n",
    "  )\n",
    "\n",
    "sentence = []\n",
    "\n",
    "for x in df.iterrows():\n",
    "  for s in x[1]['posts'].split('|||'):\n",
    "    if string_cond(s):\n",
    "      sentence.append((x[1]['type'], s))\n",
    "\n",
    "df_new = pd.DataFrame(sentence, columns=['type', 'post'])\n",
    "filter_chars = '[!\"#$%&()*+,-./:;<=>?@[\\\\]^_`{|}~\\t\\n]'\n",
    "df_new['post'] = df_new['post'].map(lambda x : re.sub(filter_chars, \"\", x))\n",
    "df_new.describe()"
   ]
  },
  {
   "cell_type": "code",
   "execution_count": 29,
   "metadata": {},
   "outputs": [
    {
     "data": {
      "text/plain": [
       "INFP    80613\n",
       "INFJ    65748\n",
       "INTP    57492\n",
       "INTJ    47895\n",
       "ENTP    31018\n",
       "ENFP    30280\n",
       "ISTP    14770\n",
       "ISFP    11446\n",
       "ENTJ    10331\n",
       "ISTJ     8879\n",
       "ENFJ     8578\n",
       "ISFJ     7342\n",
       "ESTP     3934\n",
       "ESFP     1979\n",
       "ESFJ     1921\n",
       "ESTJ     1767\n",
       "Name: type, dtype: int64"
      ]
     },
     "execution_count": 29,
     "metadata": {},
     "output_type": "execute_result"
    }
   ],
   "source": [
    "df_new['type'].value_counts()"
   ]
  },
  {
   "cell_type": "code",
   "execution_count": 30,
   "metadata": {},
   "outputs": [
    {
     "data": {
      "image/png": "[encoded data removed]",
      "text/plain": [
       "<Figure size 720x720 with 1 Axes>"
      ]
     },
     "metadata": {
      "needs_background": "light"
     },
     "output_type": "display_data"
    }
   ],
   "source": [
    "import matplotlib.pyplot as plt\n",
    "\n",
    "count = df_new['type'].value_counts()\n",
    "\n",
    "plt.figure(figsize = (10, 10))\n",
    "plt.bar(count.keys(), count.values)\n",
    "\n",
    "plt.xlabel(\"MBTI Types\")\n",
    "plt.ylabel(\"Counts\")\n",
    "plt.title(\"Counts of each MBTI's\")\n",
    "plt.show()"
   ]
  },
  {
   "cell_type": "markdown",
   "metadata": {},
   "source": [
    "Insight 1 : The Dataset is highly Imbalanced\n",
    "\n",
    "\n",
    "\n"
   ]
  },
  {
   "cell_type": "code",
   "execution_count": 4,
   "metadata": {},
   "outputs": [
    {
     "data": {
      "text/plain": [
       "(383993, 149553)"
      ]
     },
     "execution_count": 4,
     "metadata": {},
     "output_type": "execute_result"
    }
   ],
   "source": [
    "from sklearn.feature_extraction.text import CountVectorizer\n",
    "\n",
    "vectorizer = CountVectorizer(ngram_range=(1,1), stop_words='english')\n",
    "X = vectorizer.fit_transform(df_new['post'].values)\n",
    "X.shape"
   ]
  },
  {
   "cell_type": "code",
   "execution_count": 10,
   "metadata": {},
   "outputs": [
    {
     "name": "stdout",
     "output_type": "stream",
     "text": [
      "\n",
      "The most Frequent Words of INFJ: \n",
      "[array(['00', '000', '004200', ..., '안녕하세요', '유재석yoo', 'ｃｙｂｅｒｐｕｎｋ'],\n",
      "      dtype='<U200')]\n",
      "\n",
      "The most Frequent Words of ENTP: \n",
      "[array(['00', '000', '006', ..., 'ﾉヮﾉ', 'ﾉﾟ', 'ﾟﾉ'], dtype='<U200')]\n",
      "\n",
      "The most Frequent Words of INTP: \n",
      "[array(['00', '000', '0000', ..., '我喜爱冬天', '我很高兴', '関西弁'], dtype='<U200')]\n",
      "\n",
      "The most Frequent Words of INTJ: \n",
      "[array(['00', '000', '000000', ..., '陰陽', '龍が如くu3000known', 'ﾟﾟ'],\n",
      "      dtype='<U200')]\n",
      "\n",
      "The most Frequent Words of ENTJ: \n",
      "[array(['001', '0060', '0100', ..., '就拿我', '我才不像你一把吞大笑', '我是你的'],\n",
      "      dtype='<U200')]\n",
      "\n",
      "The most Frequent Words of ENFJ: \n",
      "[array(['00', '00000011', '000000111', ..., 'ｔｒｕｍｐu3000ｉｓu3000ａｎu3000ｅｓｔｐ',\n",
      "       'ｖａｐｏｒｗａｖｅ',\n",
      "       'ｗｈｙu3000ｉｓu3000ａｎｙｏｎｅu3000ｓｔｉｌｌu3000ｄｉｓｃｕｓｓｉｎｇu3000ｔｈｉｓ'],\n",
      "      dtype='<U200')]\n",
      "\n",
      "The most Frequent Words of INFP: \n",
      "[array(['00', '000', '0001', ..., '我学习汉语但是不太容易呢', '砂月', 'ﾉｼ'],\n",
      "      dtype='<U200')]\n",
      "\n",
      "The most Frequent Words of ENFP: \n",
      "[array(['00', '000', '001', ..., 'ｅｘａｃｔｌｙ', 'ﾉﾞ', 'ﾟﾟ'], dtype='<U200')]\n",
      "\n",
      "The most Frequent Words of ISFP: \n",
      "[array(['00', '000', '0000', ..., 'zyxwvutsrqponmlkjihgfedcba', 'überesfj',\n",
      "       'ﾉωﾉ'], dtype='<U200')]\n",
      "\n",
      "The most Frequent Words of ISTP: \n",
      "[array(['00', '002', '007', ..., 'λεπτά', 'σε', 'φωτογραφία'],\n",
      "      dtype='<U200')]\n",
      "\n",
      "The most Frequent Words of ISFJ: \n",
      "[array(['000', '002', '01', ..., 'zyzz', 'ärks', '曉美'], dtype='<U200')]\n",
      "\n",
      "The most Frequent Words of ISTJ: \n",
      "[array(['007phantom', '00s', '010', ..., 'âx80x9cthe',\n",
      "       'ａｍu3000ｉu3000ｄｒｅａｍｉｎｇ', 'ｒｅｓｐｅｃｔu3000ｫｬｩｧ'], dtype='<U200')]\n",
      "\n",
      "The most Frequent Words of ESTP: \n",
      "[array(['010337', '05', '0is', ..., 'zooey', 'zubs',\n",
      "       'âx86x90factslidesâx86x92'], dtype='<U200')]\n",
      "\n",
      "The most Frequent Words of ESFP: \n",
      "[array(['00', '06', '08', ..., 'zuko', 'zulban', 'zzz'], dtype='<U200')]\n",
      "\n",
      "The most Frequent Words of ESTJ: \n",
      "[array(['002', '08', '10', ..., 'zombie', 'zoom', 'zs'], dtype='<U200')]\n",
      "\n",
      "The most Frequent Words of ESFJ: \n",
      "[array(['10', '100', '1000', ..., 'zombies', 'âx80x93', 'êtes'],\n",
      "      dtype='<U200')]\n"
     ]
    }
   ],
   "source": [
    "\n",
    "for x in df_new['type'].unique() :\n",
    "    tokens  = vectorizer.transform(df_new['post'].loc[df_new['type'] == x].values)\n",
    "    counts = tokens.sum(axis=0)\n",
    "    words = vectorizer.inverse_transform(np.asarray(counts))\n",
    "    print(f\"\\nThe most Frequent Words of {x}: \")\n",
    "    print(words)\n",
    "    "
   ]
  },
  {
   "cell_type": "markdown",
   "metadata": {},
   "source": [
    "Insight 2 : A lot of numbers and non-alphabetical words"
   ]
  },
  {
   "cell_type": "markdown",
   "metadata": {},
   "source": [
    "EDA Summary :\n",
    "1. UnderSample / OverSample the imbalanced dataset\n",
    "2. Transform the dataset : remove non ascii characters\n",
    "3. Create tokenizer specialized for numbers"
   ]
  }
 ],
 "metadata": {
  "kernelspec": {
   "display_name": "Python 3.9.6 64-bit",
   "language": "python",
   "name": "python3"
  },
  "language_info": {
   "codemirror_mode": {
    "name": "ipython",
    "version": 3
   },
   "file_extension": ".py",
   "mimetype": "text/x-python",
   "name": "python",
   "nbconvert_exporter": "python",
   "pygments_lexer": "ipython3",
   "version": "3.9.6"
  },
  "orig_nbformat": 4,
  "vscode": {
   "interpreter": {
    "hash": "11938c6bc6919ae2720b4d5011047913343b08a43b18698fd82dedb0d4417594"
   }
  }
 },
 "nbformat": 4,
 "nbformat_minor": 2
}
